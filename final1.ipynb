{
 "cells": [
  {
   "cell_type": "code",
   "execution_count": 313,
   "metadata": {},
   "outputs": [],
   "source": [
    "import tensorflow as tf\n",
    "from keras.preprocessing.image import ImageDataGenerator, array_to_img, img_to_array, load_img\n",
    "from keras.models import Sequential\n",
    "from keras.layers import Conv2D, MaxPooling2D\n",
    "from keras.layers import Activation, Dropout, Flatten, Dense\n",
    "from keras.preprocessing import image\n",
    "import numpy as np\n",
    "from keras import backend as K"
   ]
  },
  {
   "cell_type": "code",
   "execution_count": 314,
   "metadata": {},
   "outputs": [],
   "source": [
    "train_datagen = ImageDataGenerator(rescale = 1./255,\n",
    "                                   shear_range = 0.2,\n",
    "                                   zoom_range = 0.2,\n",
    "                                   horizontal_flip = True)"
   ]
  },
  {
   "cell_type": "code",
   "execution_count": 315,
   "metadata": {},
   "outputs": [],
   "source": [
    "test_datagen = ImageDataGenerator(rescale=1./255)"
   ]
  },
  {
   "cell_type": "code",
   "execution_count": 316,
   "metadata": {},
   "outputs": [
    {
     "name": "stdout",
     "output_type": "stream",
     "text": [
      "Found 608 images belonging to 2 classes.\n"
     ]
    }
   ],
   "source": [
    "train_generator = train_datagen.flow_from_directory('training_set',target_size=(64, 64),\n",
    "                                                   batch_size=32,class_mode='binary')\n",
    "\n"
   ]
  },
  {
   "cell_type": "code",
   "execution_count": 317,
   "metadata": {},
   "outputs": [
    {
     "name": "stdout",
     "output_type": "stream",
     "text": [
      "Found 138 images belonging to 2 classes.\n"
     ]
    }
   ],
   "source": [
    "validation_generator = test_datagen.flow_from_directory('test_set',target_size=(64,64),\n",
    "                                                   batch_size=32,class_mode='binary')"
   ]
  },
  {
   "cell_type": "code",
   "execution_count": 318,
   "metadata": {},
   "outputs": [],
   "source": [
    "from tensorflow.keras.applications import DenseNet169\n",
    "\n"
   ]
  },
  {
   "cell_type": "code",
   "execution_count": 319,
   "metadata": {},
   "outputs": [],
   "source": [
    "base_model = DenseNet169(input_shape = (64, 64, 3), # Shape of our images\n",
    "include_top = False, # Leave out the last fully connected layer\n",
    "weights = 'imagenet')"
   ]
  },
  {
   "cell_type": "code",
   "execution_count": 320,
   "metadata": {},
   "outputs": [],
   "source": [
    "for layer in base_model.layers:\n",
    "    layer.trainable = False"
   ]
  },
  {
   "cell_type": "code",
   "execution_count": 321,
   "metadata": {},
   "outputs": [],
   "source": [
    "from tensorflow.keras import layers \n",
    "from tensorflow.keras import Model \n",
    "import matplotlib.pyplot as plt\n",
    "# Flatten the output layer to 1 dimension\n",
    "x = layers.Flatten()(base_model.output)\n",
    "\n",
    "# Add a fully connected layer with 512 hidden units and ReLU activation\n",
    "x = layers.Dense(256, activation='relu')(x)\n",
    "\n",
    "# Add a dropout rate of 0.5\n",
    "x = layers.Dropout(0.5)(x)\n",
    "\n",
    "# Add a final sigmoid layer for classification\n",
    "x = layers.Dense(1, activation='sigmoid')(x)\n",
    "\n",
    "model = tf.keras.models.Model(base_model.input, x)\n",
    "\n",
    "model.compile(optimizer = tf.keras.optimizers.RMSprop(lr=0.001), loss = 'binary_crossentropy',metrics = ['acc'])\n"
   ]
  },
  {
   "cell_type": "code",
   "execution_count": 322,
   "metadata": {},
   "outputs": [
    {
     "name": "stdout",
     "output_type": "stream",
     "text": [
      "Epoch 1/30\n",
      "19/19 [==============================] - 31s 839ms/step - loss: 6.0930 - acc: 0.4839 - val_loss: 0.8688 - val_acc: 0.5507\n",
      "Epoch 2/30\n",
      "19/19 [==============================] - 11s 592ms/step - loss: 1.1131 - acc: 0.5726 - val_loss: 0.5669 - val_acc: 0.7319\n",
      "Epoch 3/30\n",
      "19/19 [==============================] - 11s 591ms/step - loss: 0.8226 - acc: 0.5684 - val_loss: 0.5463 - val_acc: 0.7174\n",
      "Epoch 4/30\n",
      "19/19 [==============================] - 11s 586ms/step - loss: 0.6628 - acc: 0.6366 - val_loss: 0.5017 - val_acc: 0.7899\n",
      "Epoch 5/30\n",
      "19/19 [==============================] - 11s 593ms/step - loss: 0.6325 - acc: 0.6484 - val_loss: 0.6398 - val_acc: 0.6087\n",
      "Epoch 6/30\n",
      "19/19 [==============================] - 11s 594ms/step - loss: 0.6025 - acc: 0.6719 - val_loss: 0.5105 - val_acc: 0.7536\n",
      "Epoch 7/30\n",
      "19/19 [==============================] - 12s 645ms/step - loss: 0.6678 - acc: 0.6568 - val_loss: 0.5425 - val_acc: 0.6957\n",
      "Epoch 8/30\n",
      "19/19 [==============================] - 11s 586ms/step - loss: 0.6767 - acc: 0.6769 - val_loss: 0.5008 - val_acc: 0.7174\n",
      "Epoch 9/30\n",
      "19/19 [==============================] - 11s 593ms/step - loss: 0.6082 - acc: 0.6576 - val_loss: 0.4474 - val_acc: 0.8043\n",
      "Epoch 10/30\n",
      "19/19 [==============================] - 11s 595ms/step - loss: 0.5274 - acc: 0.7367 - val_loss: 0.5199 - val_acc: 0.6812\n",
      "Epoch 11/30\n",
      "19/19 [==============================] - 11s 590ms/step - loss: 0.6056 - acc: 0.6768 - val_loss: 0.5398 - val_acc: 0.7464\n",
      "Epoch 12/30\n",
      "19/19 [==============================] - 11s 593ms/step - loss: 0.6042 - acc: 0.6980 - val_loss: 0.4310 - val_acc: 0.7681\n",
      "Epoch 13/30\n",
      "19/19 [==============================] - 11s 598ms/step - loss: 0.5525 - acc: 0.7137 - val_loss: 0.5070 - val_acc: 0.7101\n",
      "Epoch 14/30\n",
      "19/19 [==============================] - 11s 602ms/step - loss: 0.5683 - acc: 0.7146 - val_loss: 0.4335 - val_acc: 0.8116\n",
      "Epoch 15/30\n",
      "19/19 [==============================] - 11s 582ms/step - loss: 0.4974 - acc: 0.7770 - val_loss: 0.4418 - val_acc: 0.8188\n",
      "Epoch 16/30\n",
      "19/19 [==============================] - 11s 600ms/step - loss: 0.5474 - acc: 0.7249 - val_loss: 0.4017 - val_acc: 0.7899\n",
      "Epoch 17/30\n",
      "19/19 [==============================] - 11s 602ms/step - loss: 0.5961 - acc: 0.6853 - val_loss: 0.4832 - val_acc: 0.7754\n",
      "Epoch 18/30\n",
      "19/19 [==============================] - 11s 595ms/step - loss: 0.6021 - acc: 0.7061 - val_loss: 0.4861 - val_acc: 0.7609\n",
      "Epoch 19/30\n",
      "19/19 [==============================] - 11s 592ms/step - loss: 0.4508 - acc: 0.7943 - val_loss: 0.4129 - val_acc: 0.8261\n",
      "Epoch 20/30\n",
      "19/19 [==============================] - 11s 596ms/step - loss: 0.5621 - acc: 0.7181 - val_loss: 0.3947 - val_acc: 0.8043\n",
      "Epoch 21/30\n",
      "19/19 [==============================] - 12s 630ms/step - loss: 0.4622 - acc: 0.7791 - val_loss: 0.4656 - val_acc: 0.7971\n",
      "Epoch 22/30\n",
      "19/19 [==============================] - 11s 592ms/step - loss: 0.5057 - acc: 0.7615 - val_loss: 0.5746 - val_acc: 0.7029\n",
      "Epoch 23/30\n",
      "19/19 [==============================] - 11s 588ms/step - loss: 0.5172 - acc: 0.7201 - val_loss: 0.6048 - val_acc: 0.7319\n",
      "Epoch 24/30\n",
      "19/19 [==============================] - 12s 605ms/step - loss: 0.4603 - acc: 0.7591 - val_loss: 0.4413 - val_acc: 0.8261\n",
      "Epoch 25/30\n",
      "19/19 [==============================] - 12s 608ms/step - loss: 0.5414 - acc: 0.7365 - val_loss: 0.4177 - val_acc: 0.8261\n",
      "Epoch 26/30\n",
      "19/19 [==============================] - 11s 587ms/step - loss: 0.5230 - acc: 0.7666 - val_loss: 0.4580 - val_acc: 0.7899\n",
      "Epoch 27/30\n",
      "19/19 [==============================] - 11s 601ms/step - loss: 0.4754 - acc: 0.7566 - val_loss: 0.4956 - val_acc: 0.7971\n",
      "Epoch 28/30\n",
      "19/19 [==============================] - 11s 600ms/step - loss: 0.4883 - acc: 0.7660 - val_loss: 0.4953 - val_acc: 0.7681\n",
      "Epoch 29/30\n",
      "19/19 [==============================] - 11s 605ms/step - loss: 0.4582 - acc: 0.7559 - val_loss: 0.4419 - val_acc: 0.8116\n",
      "Epoch 30/30\n",
      "19/19 [==============================] - 12s 605ms/step - loss: 0.5091 - acc: 0.7642 - val_loss: 0.4859 - val_acc: 0.7826\n"
     ]
    },
    {
     "data": {
      "text/plain": [
       "<tensorflow.python.keras.callbacks.History at 0x21dbb26af40>"
      ]
     },
     "execution_count": 322,
     "metadata": {},
     "output_type": "execute_result"
    }
   ],
   "source": [
    "model.fit(train_generator, validation_data = validation_generator, epochs =30)"
   ]
  },
  {
   "cell_type": "code",
   "execution_count": 323,
   "metadata": {},
   "outputs": [
    {
     "data": {
      "text/plain": [
       "<AxesSubplot:>"
      ]
     },
     "execution_count": 323,
     "metadata": {},
     "output_type": "execute_result"
    },
    {
     "data": {
      "image/png": "[encoded data removed]",
      "text/plain": [
       "<Figure size 432x288 with 1 Axes>"
      ]
     },
     "metadata": {
      "needs_background": "light"
     },
     "output_type": "display_data"
    }
   ],
   "source": [
    "import matplotlib.pyplot as plt\n",
    "%matplotlib inline\n",
    "import pandas as pd\n",
    "\n",
    "losses = pd.DataFrame(model.history.history)\n",
    "losses[['loss','val_loss']].plot()"
   ]
  },
  {
   "cell_type": "code",
   "execution_count": 324,
   "metadata": {},
   "outputs": [
    {
     "name": "stderr",
     "output_type": "stream",
     "text": [
      "C:\\Users\\Dell\\anaconda3\\lib\\site-packages\\tensorflow\\python\\keras\\engine\\training.py:1905: UserWarning: `Model.predict_generator` is deprecated and will be removed in a future version. Please use `Model.predict`, which supports generators.\n",
      "  warnings.warn('`Model.predict_generator` is deprecated and '\n"
     ]
    },
    {
     "data": {
      "text/plain": [
       "array([[5.7236981e-01],\n",
       "       [3.7700993e-01],\n",
       "       [6.5012395e-01],\n",
       "       [4.4721457e-01],\n",
       "       [9.9688363e-01],\n",
       "       [9.8590028e-01],\n",
       "       [9.9442971e-01],\n",
       "       [9.9627030e-01],\n",
       "       [9.8613107e-01],\n",
       "       [7.0660508e-01],\n",
       "       [6.7765176e-02],\n",
       "       [9.9991286e-01],\n",
       "       [9.9956954e-01],\n",
       "       [9.9966228e-01],\n",
       "       [9.9921703e-01],\n",
       "       [9.9997747e-01],\n",
       "       [4.3013692e-04],\n",
       "       [9.2290580e-01],\n",
       "       [6.4284587e-01],\n",
       "       [9.9745142e-01],\n",
       "       [5.6739438e-01],\n",
       "       [7.8369212e-01],\n",
       "       [4.6080461e-01],\n",
       "       [6.8910623e-01],\n",
       "       [6.7130691e-01],\n",
       "       [8.8278103e-01],\n",
       "       [8.1712615e-01],\n",
       "       [5.4897755e-01],\n",
       "       [3.2296330e-01],\n",
       "       [3.4571391e-01],\n",
       "       [8.2541633e-01],\n",
       "       [1.1500424e-01],\n",
       "       [6.8323398e-01],\n",
       "       [9.9960434e-01],\n",
       "       [8.4259868e-01],\n",
       "       [3.4974265e-01],\n",
       "       [9.8682988e-01],\n",
       "       [3.9377213e-02],\n",
       "       [9.9997550e-01],\n",
       "       [3.6628115e-01],\n",
       "       [3.6187869e-01],\n",
       "       [8.5683089e-01],\n",
       "       [2.1979541e-02],\n",
       "       [2.7932727e-01],\n",
       "       [9.9984860e-01],\n",
       "       [4.6904325e-02],\n",
       "       [3.9362732e-01],\n",
       "       [4.3955126e-01],\n",
       "       [3.0072492e-01],\n",
       "       [9.9945909e-01],\n",
       "       [8.6864221e-01],\n",
       "       [5.2097380e-01],\n",
       "       [7.8788078e-01],\n",
       "       [9.9958688e-01],\n",
       "       [3.9080530e-01],\n",
       "       [9.8164910e-01],\n",
       "       [2.8990424e-01],\n",
       "       [6.5272963e-01],\n",
       "       [9.8382044e-01],\n",
       "       [5.8844292e-01],\n",
       "       [7.7646852e-01],\n",
       "       [9.9588811e-01],\n",
       "       [9.5546228e-01],\n",
       "       [6.2362236e-01],\n",
       "       [9.9940002e-01],\n",
       "       [7.9228115e-01],\n",
       "       [1.0352191e-01],\n",
       "       [5.5142111e-01],\n",
       "       [8.2212174e-01],\n",
       "       [9.9213570e-01],\n",
       "       [1.7637491e-02],\n",
       "       [9.6288919e-01],\n",
       "       [9.9997759e-01],\n",
       "       [9.2265236e-01],\n",
       "       [7.6278359e-01],\n",
       "       [9.7082210e-01],\n",
       "       [9.9983633e-01],\n",
       "       [7.6192141e-01],\n",
       "       [3.6774817e-01],\n",
       "       [8.3576846e-01],\n",
       "       [9.0889859e-01],\n",
       "       [6.5832269e-01],\n",
       "       [6.4520699e-01],\n",
       "       [2.1442169e-01],\n",
       "       [2.9354227e-01],\n",
       "       [9.9999368e-01],\n",
       "       [3.9359927e-03],\n",
       "       [6.8970513e-01],\n",
       "       [1.3374364e-01],\n",
       "       [9.5301193e-01],\n",
       "       [5.9564865e-01],\n",
       "       [3.7772483e-01],\n",
       "       [9.4147611e-01],\n",
       "       [9.9972856e-01],\n",
       "       [9.9986315e-01],\n",
       "       [4.2349607e-01],\n",
       "       [4.3622744e-01],\n",
       "       [9.9949253e-01],\n",
       "       [7.9625392e-01],\n",
       "       [5.7679152e-01],\n",
       "       [8.2500035e-01],\n",
       "       [9.7790468e-01],\n",
       "       [4.5752254e-01],\n",
       "       [9.2213154e-01],\n",
       "       [9.5550770e-01],\n",
       "       [9.9985909e-01],\n",
       "       [4.3512365e-01],\n",
       "       [9.9996543e-01],\n",
       "       [2.1401548e-01],\n",
       "       [9.9252021e-01],\n",
       "       [3.6024934e-01],\n",
       "       [8.5903293e-01],\n",
       "       [6.5408176e-01],\n",
       "       [6.5800792e-01],\n",
       "       [2.7825665e-01],\n",
       "       [9.0465450e-01],\n",
       "       [9.5613664e-01],\n",
       "       [5.0786752e-01],\n",
       "       [9.9974406e-01],\n",
       "       [6.5292025e-01],\n",
       "       [7.0713347e-01],\n",
       "       [2.5499219e-01],\n",
       "       [2.1427479e-01],\n",
       "       [2.2408929e-01],\n",
       "       [9.9536204e-01],\n",
       "       [4.8437232e-01],\n",
       "       [9.2569411e-01],\n",
       "       [9.7684252e-01],\n",
       "       [4.4250914e-01],\n",
       "       [9.9925017e-01],\n",
       "       [9.4395095e-01],\n",
       "       [9.9981368e-01],\n",
       "       [9.8923558e-01],\n",
       "       [2.2795245e-01],\n",
       "       [2.0624778e-01],\n",
       "       [3.7006795e-01],\n",
       "       [1.5797991e-01],\n",
       "       [9.7343743e-01]], dtype=float32)"
      ]
     },
     "execution_count": 324,
     "metadata": {},
     "output_type": "execute_result"
    }
   ],
   "source": [
    "from sklearn.metrics import classification_report,confusion_matrix\n",
    "\n",
    "from tensorflow.keras.preprocessing import image\n",
    "\n",
    "pred_probabilities =model.predict_generator(validation_generator)\n",
    "\n",
    "pred_probabilities"
   ]
  },
  {
   "cell_type": "code",
   "execution_count": 325,
   "metadata": {},
   "outputs": [
    {
     "data": {
      "text/plain": [
       "array([0, 0, 0, 0, 0, 0, 0, 0, 0, 0, 0, 0, 0, 0, 0, 0, 0, 0, 0, 0, 0, 0,\n",
       "       0, 0, 0, 0, 0, 0, 0, 0, 0, 0, 0, 0, 0, 0, 0, 0, 0, 0, 0, 0, 0, 0,\n",
       "       0, 0, 0, 0, 0, 0, 0, 0, 0, 0, 0, 0, 0, 0, 0, 0, 1, 1, 1, 1, 1, 1,\n",
       "       1, 1, 1, 1, 1, 1, 1, 1, 1, 1, 1, 1, 1, 1, 1, 1, 1, 1, 1, 1, 1, 1,\n",
       "       1, 1, 1, 1, 1, 1, 1, 1, 1, 1, 1, 1, 1, 1, 1, 1, 1, 1, 1, 1, 1, 1,\n",
       "       1, 1, 1, 1, 1, 1, 1, 1, 1, 1, 1, 1, 1, 1, 1, 1, 1, 1, 1, 1, 1, 1,\n",
       "       1, 1, 1, 1, 1, 1])"
      ]
     },
     "execution_count": 325,
     "metadata": {},
     "output_type": "execute_result"
    }
   ],
   "source": [
    "validation_generator.classes"
   ]
  },
  {
   "cell_type": "code",
   "execution_count": 326,
   "metadata": {},
   "outputs": [
    {
     "data": {
      "text/plain": [
       "array([[ True],\n",
       "       [False],\n",
       "       [ True],\n",
       "       [False],\n",
       "       [ True],\n",
       "       [ True],\n",
       "       [ True],\n",
       "       [ True],\n",
       "       [ True],\n",
       "       [ True],\n",
       "       [False],\n",
       "       [ True],\n",
       "       [ True],\n",
       "       [ True],\n",
       "       [ True],\n",
       "       [ True],\n",
       "       [False],\n",
       "       [ True],\n",
       "       [ True],\n",
       "       [ True],\n",
       "       [ True],\n",
       "       [ True],\n",
       "       [False],\n",
       "       [ True],\n",
       "       [ True],\n",
       "       [ True],\n",
       "       [ True],\n",
       "       [ True],\n",
       "       [False],\n",
       "       [False],\n",
       "       [ True],\n",
       "       [False],\n",
       "       [ True],\n",
       "       [ True],\n",
       "       [ True],\n",
       "       [False],\n",
       "       [ True],\n",
       "       [False],\n",
       "       [ True],\n",
       "       [False],\n",
       "       [False],\n",
       "       [ True],\n",
       "       [False],\n",
       "       [False],\n",
       "       [ True],\n",
       "       [False],\n",
       "       [False],\n",
       "       [False],\n",
       "       [False],\n",
       "       [ True],\n",
       "       [ True],\n",
       "       [ True],\n",
       "       [ True],\n",
       "       [ True],\n",
       "       [False],\n",
       "       [ True],\n",
       "       [False],\n",
       "       [ True],\n",
       "       [ True],\n",
       "       [ True],\n",
       "       [ True],\n",
       "       [ True],\n",
       "       [ True],\n",
       "       [ True],\n",
       "       [ True],\n",
       "       [ True],\n",
       "       [False],\n",
       "       [ True],\n",
       "       [ True],\n",
       "       [ True],\n",
       "       [False],\n",
       "       [ True],\n",
       "       [ True],\n",
       "       [ True],\n",
       "       [ True],\n",
       "       [ True],\n",
       "       [ True],\n",
       "       [ True],\n",
       "       [False],\n",
       "       [ True],\n",
       "       [ True],\n",
       "       [ True],\n",
       "       [ True],\n",
       "       [False],\n",
       "       [False],\n",
       "       [ True],\n",
       "       [False],\n",
       "       [ True],\n",
       "       [False],\n",
       "       [ True],\n",
       "       [ True],\n",
       "       [False],\n",
       "       [ True],\n",
       "       [ True],\n",
       "       [ True],\n",
       "       [False],\n",
       "       [False],\n",
       "       [ True],\n",
       "       [ True],\n",
       "       [ True],\n",
       "       [ True],\n",
       "       [ True],\n",
       "       [False],\n",
       "       [ True],\n",
       "       [ True],\n",
       "       [ True],\n",
       "       [False],\n",
       "       [ True],\n",
       "       [False],\n",
       "       [ True],\n",
       "       [False],\n",
       "       [ True],\n",
       "       [ True],\n",
       "       [ True],\n",
       "       [False],\n",
       "       [ True],\n",
       "       [ True],\n",
       "       [ True],\n",
       "       [ True],\n",
       "       [ True],\n",
       "       [ True],\n",
       "       [False],\n",
       "       [False],\n",
       "       [False],\n",
       "       [ True],\n",
       "       [False],\n",
       "       [ True],\n",
       "       [ True],\n",
       "       [False],\n",
       "       [ True],\n",
       "       [ True],\n",
       "       [ True],\n",
       "       [ True],\n",
       "       [False],\n",
       "       [False],\n",
       "       [False],\n",
       "       [False],\n",
       "       [ True]])"
      ]
     },
     "execution_count": 326,
     "metadata": {},
     "output_type": "execute_result"
    }
   ],
   "source": [
    "predictions = pred_probabilities > 0.5\n",
    "predictions"
   ]
  },
  {
   "cell_type": "code",
   "execution_count": 327,
   "metadata": {},
   "outputs": [
    {
     "name": "stdout",
     "output_type": "stream",
     "text": [
      "              precision    recall  f1-score   support\n",
      "\n",
      "           0       0.45      0.33      0.38        60\n",
      "           1       0.57      0.69      0.63        78\n",
      "\n",
      "    accuracy                           0.54       138\n",
      "   macro avg       0.51      0.51      0.51       138\n",
      "weighted avg       0.52      0.54      0.52       138\n",
      "\n"
     ]
    },
    {
     "data": {
      "text/plain": [
       "array([[20, 40],\n",
       "       [24, 54]], dtype=int64)"
      ]
     },
     "execution_count": 327,
     "metadata": {},
     "output_type": "execute_result"
    }
   ],
   "source": [
    "print(classification_report(validation_generator.classes,predictions))\n",
    "confusion_matrix(validation_generator.classes,predictions)"
   ]
  },
  {
   "cell_type": "markdown",
   "metadata": {},
   "source": [
    "Note: There are less samples to train ans to test. I randomly create train and validation set. The validation accuracy is 78% which i tried with various models and densenet gave the best result.This is the best i could have donr with that amount of sample. The performance report is also not good because of less samples.\n",
    "\n",
    "              precision    recall  f1-score   support\n",
    "\n",
    "           0       0.45      0.33      0.38        60\n",
    "           1       0.57      0.69      0.63        78\n",
    "\n",
    "    accuracy                           0.54       138\n",
    "   macro avg       0.51      0.51      0.51       138\n",
    "weighted avg       0.52      0.54      0.52       138\n",
    "\n"
   ]
  },
  {
   "cell_type": "markdown",
   "metadata": {},
   "source": [
    "there are less samples of 0(covid) compared to class 1(non covide) thats why the report is better for class 1 compared to class 0"
   ]
  },
  {
   "cell_type": "code",
   "execution_count": null,
   "metadata": {},
   "outputs": [],
   "source": []
  }
 ],
 "metadata": {
  "kernelspec": {
   "display_name": "Python 3",
   "language": "python",
   "name": "python3"
  },
  "language_info": {
   "codemirror_mode": {
    "name": "ipython",
    "version": 3
   },
   "file_extension": ".py",
   "mimetype": "text/x-python",
   "name": "python",
   "nbconvert_exporter": "python",
   "pygments_lexer": "ipython3",
   "version": "3.8.5"
  }
 },
 "nbformat": 4,
 "nbformat_minor": 4
}
